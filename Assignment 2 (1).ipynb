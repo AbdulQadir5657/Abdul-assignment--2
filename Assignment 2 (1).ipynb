{
 "cells": [
  {
   "cell_type": "code",
   "execution_count": null,
   "id": "fd9eda5f",
   "metadata": {},
   "outputs": [],
   "source": [
    "# Question 1\n",
    "1.What are the two values of the Boolean data type? How do you write them?\n",
    "\n",
    "The two values of the Boolean data type are True and False. \n",
    "In Python, you can write them as shown"
   ]
  },
  {
   "cell_type": "code",
   "execution_count": null,
   "id": "ec9c344a",
   "metadata": {},
   "outputs": [],
   "source": [
    "# Question 2\n",
    "2. What are the three different types of Boolean operators?\n",
    "\n",
    "The three different types of Boolean operators are:\n",
    "\n",
    "> The AND operator (\"and\")\n",
    "> The OR operator (\"or\")\n",
    "> The NOT operator (\"not\")"
   ]
  },
  {
   "cell_type": "code",
   "execution_count": null,
   "id": "0dc9e716",
   "metadata": {},
   "outputs": [],
   "source": [
    "# Question 3\n",
    "3. Make a list of each Boolean operators truth tables (i.e. every possible combination of Boolean\n",
    "values for the operator and what it evaluate ).\n",
    "\n",
    "> AND Operator:\n",
    "\n",
    "0 AND 0 = 0\n",
    "0 AND 1 = 0\n",
    "1 AND 0 = 0\n",
    "1 AND 1 = 1\n",
    "\n",
    "> OR Operator:\n",
    "    \n",
    "0 OR 0 = 0\n",
    "0 OR 1 = 1\n",
    "1 OR 0 = 1\n",
    "1 OR 1 = 1\n",
    "\n",
    "> NOT Operator:\n",
    "    \n",
    "NOT 0 = 1\n",
    "NOT 1 = 0\n",
    "\n",
    "   "
   ]
  },
  {
   "cell_type": "code",
   "execution_count": null,
   "id": "1b23eb62",
   "metadata": {},
   "outputs": [],
   "source": [
    "# Question 4\n",
    "\n",
    "4. What are the values of the following expressions?\n",
    "\n",
    ">(5 > 4) and (3 == 5) = False\n",
    ">not (5 > 4) = False\n",
    ">(5 >4) or (3 == 5) = True\n",
    ">not ((5 >4) or (3 == 5)) = False\n",
    ">(True and True) and (True == False) = False\n",
    ">(not False) or (not True) = True"
   ]
  },
  {
   "cell_type": "code",
   "execution_count": null,
   "id": "24311348",
   "metadata": {},
   "outputs": [],
   "source": [
    "# Question 5\n",
    "5. What are the six comparison operators?\n",
    " \n",
    "> Equal to (==)\n",
    "> Not equal to (!=)\n",
    "> Greater than (>)\n",
    "> Greater than or equal to (>=)\n",
    "> Less than (<)\n",
    "> Less than or equal to (<=)\n"
   ]
  },
  {
   "cell_type": "code",
   "execution_count": 6,
   "id": "44c00460",
   "metadata": {},
   "outputs": [
    {
     "name": "stdout",
     "output_type": "stream",
     "text": [
      "True\n",
      "False\n"
     ]
    }
   ],
   "source": [
    "# Question 6\n",
    "6. How do you tell the difference between the equal to and assignment operators? Describe a\n",
    "   condition and when you would use one.\n",
    " \n",
    "   The equal to operator (==) is used to compare two values or expressions for equality.\n",
    "    It returns True if the values are equal and False otherwise. On the other hand, the \n",
    "    assignment operator (=) is used to assign a value to a variable.\n",
    "\n",
    "    For example, if you want to compare two variables x and y, you would use the equal to operator\n",
    "    like this: x == y. If you want to assign a value of 5 to a variable called x, you would use\n",
    "    the assignment operator like this: x = 5.\n",
    "        \n",
    "x = 5\n",
    "y = 5\n",
    "print(x == y)\n",
    "x = 6\n",
    "y = 5\n",
    "print(x == y)\n",
    "        \n"
   ]
  },
  {
   "cell_type": "code",
   "execution_count": 9,
   "id": "c1bb2831",
   "metadata": {},
   "outputs": [
    {
     "name": "stdout",
     "output_type": "stream",
     "text": [
      "bacon\n"
     ]
    }
   ],
   "source": [
    "# Question 7\n",
    "#7. Identify the three blocks in this code:\n",
    "spam = 0\n",
    "\n",
    "if spam == 10:\n",
    "    print('eggs')\n",
    "if spam <5:\n",
    "    print('bacon')\n",
    "else:\n",
    "    print('ham')\n",
    "    print('spam')\n",
    "    print('spam')"
   ]
  },
  {
   "cell_type": "code",
   "execution_count": 26,
   "id": "6d600876",
   "metadata": {},
   "outputs": [
    {
     "name": "stdout",
     "output_type": "stream",
     "text": [
      "ham\n",
      "spam\n",
      "spam\n"
     ]
    }
   ],
   "source": [
    "spam = 0\n",
    "\n",
    "if spam == 10:\n",
    "    print('eggs')\n",
    "elif spam >=10:\n",
    "    print('bacon')\n",
    "else:\n",
    "    print('ham')\n",
    "    print('spam')\n",
    "    print('spam')"
   ]
  },
  {
   "cell_type": "code",
   "execution_count": 32,
   "id": "e34f4ff0",
   "metadata": {},
   "outputs": [
    {
     "name": "stdout",
     "output_type": "stream",
     "text": [
      "Greetings!\n"
     ]
    }
   ],
   "source": [
    "# Question 8\n",
    "8. Write code that prints Hello if 1 is stored in spam, prints Howdy if 2 is stored in spam, and prints\n",
    "Greetings! if anything else is stored in spam.\n",
    "\n",
    "if spam == 1:\n",
    "    print('Hello')\n",
    "elif spam == 2:\n",
    "    print('Howdy')\n",
    "else:\n",
    "    print('Greetings!')\n",
    "    "
   ]
  },
  {
   "cell_type": "code",
   "execution_count": null,
   "id": "8a8c65ef",
   "metadata": {},
   "outputs": [],
   "source": [
    "# Question 9\n",
    "9.If your programme is stuck in an endless loop, what keys you’ll press?\n",
    "\n",
    "  Ctrl + C\n",
    "\n",
    "\n",
    "\n"
   ]
  },
  {
   "cell_type": "code",
   "execution_count": 38,
   "id": "ba8569a8",
   "metadata": {},
   "outputs": [
    {
     "name": "stdout",
     "output_type": "stream",
     "text": [
      "0\n",
      "1\n",
      "2\n",
      "3\n",
      "4\n",
      "................................\n",
      "5\n",
      "6\n",
      "7\n",
      "8\n",
      "9\n"
     ]
    }
   ],
   "source": [
    "# Question 10\n",
    "#10. How can you tell the difference between break and continue?\n",
    "\n",
    "  In programming, both break and continue are used to transfer control of the program to another\n",
    "    part of the program. The main difference between them is that break is used for immediate\n",
    "    termination of a loop, while continue terminates the current iteration and resumes control\n",
    "    to the next iteration of the loop.\n",
    "    \n",
    "    # Example of break statement\n",
    "for i in range(10):\n",
    "    if i == 5:\n",
    "        break\n",
    "    print(i)\n",
    "print(\"................................\")\n",
    "\n",
    "\n",
    "# Example of continue statement\n",
    "for i in range(10):\n",
    "    if i < 5:\n",
    "        continue\n",
    "    print(i)\n",
    "\n",
    "\n",
    "\n",
    "    \n",
    "    \n"
   ]
  },
  {
   "cell_type": "code",
   "execution_count": 42,
   "id": "709cb564",
   "metadata": {},
   "outputs": [
    {
     "name": "stdout",
     "output_type": "stream",
     "text": [
      "0\n",
      "1\n",
      "2\n",
      "3\n",
      "4\n",
      "5\n",
      "6\n",
      "7\n",
      "8\n",
      "9\n",
      "...............................\n",
      "0\n",
      "1\n",
      "2\n",
      "3\n",
      "4\n",
      "5\n",
      "6\n",
      "7\n",
      "8\n",
      "9\n",
      "...............................\n",
      "0\n",
      "1\n",
      "2\n",
      "3\n",
      "4\n",
      "5\n",
      "6\n",
      "7\n",
      "8\n",
      "9\n",
      "...............................\n"
     ]
    }
   ],
   "source": [
    "# Question 11\n",
    "#11. In a for loop, what is the difference between range(10), range(0, 10), and range(0, 10, 1)?\n",
    "\n",
    "  In Python, there is no difference between range(10), range(0, 10), and range(0, 10, 1)\n",
    "    in a for loop.The range() function in Python takes three arguments: the initial value \n",
    "    (which is 0 by default), the final value (which is given), and the increment value \n",
    "    (which is 1 by default).\n",
    "    \n",
    "for i in range(10):\n",
    "    print(i)\n",
    "print(\"...............................\")\n",
    "for i in range(0, 10):\n",
    "    print(i)\n",
    "print(\"...............................\")\n",
    "for i in range(0, 10, 1):\n",
    "    print(i)\n",
    "print(\"...............................\")\n",
    "    "
   ]
  },
  {
   "cell_type": "code",
   "execution_count": 45,
   "id": "3a69f008",
   "metadata": {},
   "outputs": [
    {
     "name": "stdout",
     "output_type": "stream",
     "text": [
      "1\n",
      "2\n",
      "3\n",
      "4\n",
      "5\n",
      "6\n",
      "7\n",
      "8\n",
      "9\n",
      "10\n",
      "-----------------------------\n",
      "1\n",
      "2\n",
      "3\n",
      "4\n",
      "5\n",
      "6\n",
      "7\n",
      "8\n",
      "9\n",
      "10\n"
     ]
    }
   ],
   "source": [
    "# Question 12\n",
    "12. Write a short program that prints the numbers 1 to 10 using a for loop. Then write an equivalent\n",
    "    program that prints the numbers 1 to 10 using a while loop.\n",
    "\n",
    "# Using a for loop\n",
    "for i in range(1, 11):\n",
    "    print(i)\n",
    "print(\"-----------------------------\")\n",
    "# Using a while loop\n",
    "i = 1\n",
    "while i <= 10:\n",
    "    print(i)\n",
    "    i += 1\n",
    "\n",
    "\n"
   ]
  },
  {
   "cell_type": "code",
   "execution_count": null,
   "id": "2d3ff53a",
   "metadata": {},
   "outputs": [],
   "source": [
    "# Question 13\n",
    "13. If you had a function named bacon() inside a module named spam, how would you call it after\n",
    "importing spam?\n",
    "\n",
    "  import spam\n",
    "\n",
    "    spam.bacon()\n",
    "    \n",
    "\n"
   ]
  }
 ],
 "metadata": {
  "kernelspec": {
   "display_name": "Python 3 (ipykernel)",
   "language": "python",
   "name": "python3"
  },
  "language_info": {
   "codemirror_mode": {
    "name": "ipython",
    "version": 3
   },
   "file_extension": ".py",
   "mimetype": "text/x-python",
   "name": "python",
   "nbconvert_exporter": "python",
   "pygments_lexer": "ipython3",
   "version": "3.10.9"
  }
 },
 "nbformat": 4,
 "nbformat_minor": 5
}
